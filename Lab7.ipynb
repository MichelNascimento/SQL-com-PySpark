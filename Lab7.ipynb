{
  "nbformat": 4,
  "nbformat_minor": 0,
  "metadata": {
    "colab": {
      "provenance": [],
      "authorship_tag": "ABX9TyPh7sY00b9d1JwA1Fz8q0p8",
      "include_colab_link": true
    },
    "kernelspec": {
      "name": "python3",
      "display_name": "Python 3"
    },
    "language_info": {
      "name": "python"
    }
  },
  "cells": [
    {
      "cell_type": "markdown",
      "metadata": {
        "id": "view-in-github",
        "colab_type": "text"
      },
      "source": [
        "<a href=\"https://colab.research.google.com/github/MichelNascimento/SQL-com-PySpark/blob/main/Lab7.ipynb\" target=\"_parent\"><img src=\"https://colab.research.google.com/assets/colab-badge.svg\" alt=\"Open In Colab\"/></a>"
      ]
    },
    {
      "cell_type": "markdown",
      "source": [
        "# <font color='white'>Data Science Academy</font>\n",
        "# <font color='white'>Biga Data Real-Time Analyticcom Python</font>\n",
        "\n",
        "## <font color='white'>Análise de Dados com Linguagem SQL e PySpark no Google Cola</font>"
      ],
      "metadata": {
        "id": "i6MsQwU6MAyv"
      }
    },
    {
      "cell_type": "code",
      "source": [
        "from IPython.display import Image\n",
        "Image(url=\"https://www.bing.com/images/search?view=detailV2&ccid=%2fkShFWeR&id=81A710B8DACDAC02397349F9917DA2946AB16BBA&thid=OIP._kShFWeRR9NzWnKLhUoJngHaEK&mediaurl=https%3a%2f%2fi.pinimg.com%2foriginals%2f7a%2fc5%2f18%2f7ac51896710038993f8ea9f5b862d71a.jpg&cdnurl=https%3a%2f%2fth.bing.com%2fth%2fid%2fR.fe44a115679147d3735a728b854a099e%3frik%3dumuxapSifZH5SQ%26pid%3dImgRaw%26r%3d0&exph=1080&expw=1920&q=imagem&simid=608046565122662755&FORM=IRPRST&ck=1172CB973380CB7571AF58E16BA5B3B7&selectedIndex=1&ajaxhist=0&ajaxserp=0\", width = 200, height = 100)"
      ],
      "metadata": {
        "colab": {
          "base_uri": "https://localhost:8080/",
          "height": 121
        },
        "id": "UwhlzlSnMmD5",
        "outputId": "c75defb3-fdec-4530-df2a-e66047722175"
      },
      "execution_count": 19,
      "outputs": [
        {
          "output_type": "execute_result",
          "data": {
            "text/html": [
              "<img src=\"https://www.bing.com/images/search?view=detailV2&ccid=%2fkShFWeR&id=81A710B8DACDAC02397349F9917DA2946AB16BBA&thid=OIP._kShFWeRR9NzWnKLhUoJngHaEK&mediaurl=https%3a%2f%2fi.pinimg.com%2foriginals%2f7a%2fc5%2f18%2f7ac51896710038993f8ea9f5b862d71a.jpg&cdnurl=https%3a%2f%2fth.bing.com%2fth%2fid%2fR.fe44a115679147d3735a728b854a099e%3frik%3dumuxapSifZH5SQ%26pid%3dImgRaw%26r%3d0&exph=1080&expw=1920&q=imagem&simid=608046565122662755&FORM=IRPRST&ck=1172CB973380CB7571AF58E16BA5B3B7&selectedIndex=1&ajaxhist=0&ajaxserp=0\" width=\"200\" height=\"100\"/>"
            ],
            "text/plain": [
              "<IPython.core.display.Image object>"
            ]
          },
          "metadata": {},
          "execution_count": 19
        }
      ]
    },
    {
      "cell_type": "code",
      "source": [
        "# Versão da Linguagem Python\n",
        "from platform import python_version\n",
        "print('Versão da Linguagem Python Usada neste Jupyter Notebook: ', python_version())"
      ],
      "metadata": {
        "colab": {
          "base_uri": "https://localhost:8080/"
        },
        "id": "seBI3Kd1NcoY",
        "outputId": "0f67be9e-2beb-4f6f-9991-cfe72e7f1ff9"
      },
      "execution_count": 20,
      "outputs": [
        {
          "output_type": "stream",
          "name": "stdout",
          "text": [
            "Versão da Linguagem Python Usada neste Jupyter Notebook:  3.10.12\n"
          ]
        }
      ]
    },
    {
      "cell_type": "code",
      "source": [
        "# Versão Linux do Google Cola\n",
        "!cat /etc/*release"
      ],
      "metadata": {
        "colab": {
          "base_uri": "https://localhost:8080/"
        },
        "id": "ly8wBQZrNdIY",
        "outputId": "5cb432a6-6daf-4358-a6e5-140f5b0ecf4f"
      },
      "execution_count": 21,
      "outputs": [
        {
          "output_type": "stream",
          "name": "stdout",
          "text": [
            "DISTRIB_ID=Ubuntu\n",
            "DISTRIB_RELEASE=22.04\n",
            "DISTRIB_CODENAME=jammy\n",
            "DISTRIB_DESCRIPTION=\"Ubuntu 22.04.2 LTS\"\n",
            "PRETTY_NAME=\"Ubuntu 22.04.2 LTS\"\n",
            "NAME=\"Ubuntu\"\n",
            "VERSION_ID=\"22.04\"\n",
            "VERSION=\"22.04.2 LTS (Jammy Jellyfish)\"\n",
            "VERSION_CODENAME=jammy\n",
            "ID=ubuntu\n",
            "ID_LIKE=debian\n",
            "HOME_URL=\"https://www.ubuntu.com/\"\n",
            "SUPPORT_URL=\"https://help.ubuntu.com/\"\n",
            "BUG_REPORT_URL=\"https://bugs.launchpad.net/ubuntu/\"\n",
            "PRIVACY_POLICY_URL=\"https://www.ubuntu.com/legal/terms-and-policies/privacy-policy\"\n",
            "UBUNTU_CODENAME=jammy\n"
          ]
        }
      ]
    },
    {
      "cell_type": "code",
      "source": [
        "!ls"
      ],
      "metadata": {
        "colab": {
          "base_uri": "https://localhost:8080/"
        },
        "id": "V0LcM3jMNdK3",
        "outputId": "5bea406d-77a7-4e81-e6ef-6d908d403092"
      },
      "execution_count": 22,
      "outputs": [
        {
          "output_type": "stream",
          "name": "stdout",
          "text": [
            "sample_data  spark-3.4.1-bin-hadoop3  spark-3.4.1-bin-hadoop3.tgz\n"
          ]
        }
      ]
    },
    {
      "cell_type": "code",
      "source": [
        "# Versão do Java\n",
        "!java -version"
      ],
      "metadata": {
        "colab": {
          "base_uri": "https://localhost:8080/"
        },
        "id": "tVxwBuvbNdNf",
        "outputId": "e58ecd54-4e97-47de-d0f1-015a82524fab"
      },
      "execution_count": 23,
      "outputs": [
        {
          "output_type": "stream",
          "name": "stdout",
          "text": [
            "openjdk version \"11.0.20.1\" 2023-08-24\n",
            "OpenJDK Runtime Environment (build 11.0.20.1+1-post-Ubuntu-0ubuntu122.04)\n",
            "OpenJDK 64-Bit Server VM (build 11.0.20.1+1-post-Ubuntu-0ubuntu122.04, mixed mode, sharing)\n"
          ]
        }
      ]
    },
    {
      "cell_type": "markdown",
      "source": [
        "# <font color=\"white\">Instalação do Apache Spark no Google Colab</font>"
      ],
      "metadata": {
        "id": "z6aI6uKltSfo"
      }
    },
    {
      "cell_type": "code",
      "source": [
        "# Download do arquivo\n",
        "!wget -q https://archive.apache.org/dist/spark/spark-3.4.1/spark-3.4.1-bin-hadoop3.tgz"
      ],
      "metadata": {
        "id": "7Dn8_txBNdP5"
      },
      "execution_count": 24,
      "outputs": []
    },
    {
      "cell_type": "code",
      "source": [
        "# Descompactando o arquivo\n",
        "!tar xf spark-3.4.1-bin-hadoop3.tgz"
      ],
      "metadata": {
        "id": "TRGaNbQiNdSt"
      },
      "execution_count": 30,
      "outputs": []
    },
    {
      "cell_type": "code",
      "source": [
        "!ls /content"
      ],
      "metadata": {
        "colab": {
          "base_uri": "https://localhost:8080/"
        },
        "id": "OC7ykubWNdVL",
        "outputId": "f19f073c-ec58-42f5-c461-5fbc95014d48"
      },
      "execution_count": 35,
      "outputs": [
        {
          "output_type": "stream",
          "name": "stdout",
          "text": [
            "dataset.csv  sample_data  spark-3.4.1-bin-hadoop3  spark-3.4.1-bin-hadoop3.tgz\n"
          ]
        }
      ]
    },
    {
      "cell_type": "code",
      "source": [
        "# Define a variável de ambiente SPARK_HOME\n",
        "import os\n",
        "os.environ[\"SPARK_HOME\"] = \"/content/spark-3.4.1-bin-hadoop3\""
      ],
      "metadata": {
        "id": "nAMbLRmKNdXq"
      },
      "execution_count": 39,
      "outputs": []
    },
    {
      "cell_type": "markdown",
      "source": [
        "#<font color=\"white\">Criando a sessão do PySpark</font>"
      ],
      "metadata": {
        "id": "uSz-tQz-tjTI"
      }
    },
    {
      "cell_type": "code",
      "source": [
        "# Instala o findspark\n",
        "!pip install -q findspark"
      ],
      "metadata": {
        "id": "zlYOKx3pNdZt"
      },
      "execution_count": 37,
      "outputs": []
    },
    {
      "cell_type": "code",
      "source": [
        "# Importa os pacotes e cria a sessão Spark\n",
        "import findspark\n",
        "findspark.init()\n",
        "from pyspark.sql import SparkSession\n",
        "spark = SparkSession.builder.master(\"local[*]\").getOrCreate()\n",
        "\n",
        "# Propriedade usada para formatar mlehor as tabelas de saída\n",
        "spark.conf.set(\"spark.sql.repl.eagerEval.enabled\", True)\n",
        "spark"
      ],
      "metadata": {
        "colab": {
          "base_uri": "https://localhost:8080/",
          "height": 219
        },
        "id": "DGNt60u6s_dZ",
        "outputId": "b673abd4-7b72-4cf1-89ad-66fe2b83296c"
      },
      "execution_count": 41,
      "outputs": [
        {
          "output_type": "execute_result",
          "data": {
            "text/plain": [
              "<pyspark.sql.session.SparkSession at 0x7942e5c1f3d0>"
            ],
            "text/html": [
              "\n",
              "            <div>\n",
              "                <p><b>SparkSession - in-memory</b></p>\n",
              "                \n",
              "        <div>\n",
              "            <p><b>SparkContext</b></p>\n",
              "\n",
              "            <p><a href=\"http://b9450948f31d:4040\">Spark UI</a></p>\n",
              "\n",
              "            <dl>\n",
              "              <dt>Version</dt>\n",
              "                <dd><code>v3.4.1</code></dd>\n",
              "              <dt>Master</dt>\n",
              "                <dd><code>local[*]</code></dd>\n",
              "              <dt>AppName</dt>\n",
              "                <dd><code>pyspark-shell</code></dd>\n",
              "            </dl>\n",
              "        </div>\n",
              "        \n",
              "            </div>\n",
              "        "
            ]
          },
          "metadata": {},
          "execution_count": 41
        }
      ]
    },
    {
      "cell_type": "markdown",
      "source": [
        "#<font color=\"white\">Análise Dados com SQL e PySpark</font>"
      ],
      "metadata": {
        "id": "wMpYcHiJxebq"
      }
    },
    {
      "cell_type": "code",
      "source": [
        "# Carrega o dataset\n",
        "df_dsa = spark.read.csv('dataset.csv', header = True, sep = \";\")"
      ],
      "metadata": {
        "id": "46eyP_oWs_f-"
      },
      "execution_count": 46,
      "outputs": []
    },
    {
      "cell_type": "code",
      "source": [
        "# Visualiza as primeiras linhas\n",
        "df_dsa.show(5)"
      ],
      "metadata": {
        "colab": {
          "base_uri": "https://localhost:8080/"
        },
        "id": "6EmBEnrZxrWq",
        "outputId": "0c168708-a382-4a20-9220-91bc69ccdc94"
      },
      "execution_count": 47,
      "outputs": [
        {
          "output_type": "stream",
          "name": "stdout",
          "text": [
            "+--------------------+----+---------+------------+----------+------+------------+-----+------+\n",
            "|                 Car| MPG|Cylinders|Displacement|Horsepower|Weight|Acceleration|Model|Origin|\n",
            "+--------------------+----+---------+------------+----------+------+------------+-----+------+\n",
            "|Chevrolet Chevell...|18.0|        8|       307.0|     130.0| 3504.|        12.0|   70|    US|\n",
            "|   Buick Skylark 320|15.0|        8|       350.0|     165.0| 3693.|        11.5|   70|    US|\n",
            "|  Plymouth Satellite|18.0|        8|       318.0|     150.0| 3436.|        11.0|   70|    US|\n",
            "|       AMC Rebel SST|16.0|        8|       304.0|     150.0| 3433.|        12.0|   70|    US|\n",
            "|         Ford Torino|17.0|        8|       302.0|     140.0| 3449.|        10.5|   70|    US|\n",
            "+--------------------+----+---------+------------+----------+------+------------+-----+------+\n",
            "only showing top 5 rows\n",
            "\n"
          ]
        }
      ]
    },
    {
      "cell_type": "code",
      "source": [
        "# visualiza as primeiras linha sem truncate\n",
        "df_dsa.show(5, truncate = False)"
      ],
      "metadata": {
        "colab": {
          "base_uri": "https://localhost:8080/"
        },
        "id": "M1oWf9ODs_ia",
        "outputId": "ce037b4d-a3df-4d4b-e602-8ca3f0a660c8"
      },
      "execution_count": 48,
      "outputs": [
        {
          "output_type": "stream",
          "name": "stdout",
          "text": [
            "+-------------------------+----+---------+------------+----------+------+------------+-----+------+\n",
            "|Car                      |MPG |Cylinders|Displacement|Horsepower|Weight|Acceleration|Model|Origin|\n",
            "+-------------------------+----+---------+------------+----------+------+------------+-----+------+\n",
            "|Chevrolet Chevelle Malibu|18.0|8        |307.0       |130.0     |3504. |12.0        |70   |US    |\n",
            "|Buick Skylark 320        |15.0|8        |350.0       |165.0     |3693. |11.5        |70   |US    |\n",
            "|Plymouth Satellite       |18.0|8        |318.0       |150.0     |3436. |11.0        |70   |US    |\n",
            "|AMC Rebel SST            |16.0|8        |304.0       |150.0     |3433. |12.0        |70   |US    |\n",
            "|Ford Torino              |17.0|8        |302.0       |140.0     |3449. |10.5        |70   |US    |\n",
            "+-------------------------+----+---------+------------+----------+------+------------+-----+------+\n",
            "only showing top 5 rows\n",
            "\n"
          ]
        }
      ]
    },
    {
      "cell_type": "code",
      "source": [
        "# Visualiza as colunas do dataset\n",
        "df_dsa.columns"
      ],
      "metadata": {
        "colab": {
          "base_uri": "https://localhost:8080/"
        },
        "id": "ua0XveBXs_kt",
        "outputId": "9823ddf1-191c-4446-c869-6389df319c61"
      },
      "execution_count": 51,
      "outputs": [
        {
          "output_type": "execute_result",
          "data": {
            "text/plain": [
              "['Car',\n",
              " 'MPG',\n",
              " 'Cylinders',\n",
              " 'Displacement',\n",
              " 'Horsepower',\n",
              " 'Weight',\n",
              " 'Acceleration',\n",
              " 'Model',\n",
              " 'Origin']"
            ]
          },
          "metadata": {},
          "execution_count": 51
        }
      ]
    },
    {
      "cell_type": "code",
      "source": [
        "# Tipos de dados\n",
        "df_dsa.dtypes"
      ],
      "metadata": {
        "colab": {
          "base_uri": "https://localhost:8080/"
        },
        "id": "3CHEivvos_nB",
        "outputId": "ea7b88d2-ac1f-4f3c-f6ba-3420b099224b"
      },
      "execution_count": 53,
      "outputs": [
        {
          "output_type": "execute_result",
          "data": {
            "text/plain": [
              "[('Car', 'string'),\n",
              " ('MPG', 'string'),\n",
              " ('Cylinders', 'string'),\n",
              " ('Displacement', 'string'),\n",
              " ('Horsepower', 'string'),\n",
              " ('Weight', 'string'),\n",
              " ('Acceleration', 'string'),\n",
              " ('Model', 'string'),\n",
              " ('Origin', 'string')]"
            ]
          },
          "metadata": {},
          "execution_count": 53
        }
      ]
    },
    {
      "cell_type": "code",
      "source": [
        "# Schema (visualiza o esquema que foi escolhido pelo Spark para carregar os dados)\n",
        "df_dsa.printSchema()\n"
      ],
      "metadata": {
        "colab": {
          "base_uri": "https://localhost:8080/"
        },
        "id": "xVjYryp7zADx",
        "outputId": "a0dbd0c1-ecf6-4072-84a2-9fac4bb08195"
      },
      "execution_count": 55,
      "outputs": [
        {
          "output_type": "stream",
          "name": "stdout",
          "text": [
            "root\n",
            " |-- Car: string (nullable = true)\n",
            " |-- MPG: string (nullable = true)\n",
            " |-- Cylinders: string (nullable = true)\n",
            " |-- Displacement: string (nullable = true)\n",
            " |-- Horsepower: string (nullable = true)\n",
            " |-- Weight: string (nullable = true)\n",
            " |-- Acceleration: string (nullable = true)\n",
            " |-- Model: string (nullable = true)\n",
            " |-- Origin: string (nullable = true)\n",
            "\n"
          ]
        }
      ]
    },
    {
      "cell_type": "code",
      "source": [
        "# Faz a interfência do schema ao carreagar o dataset\n",
        "df_dsa = spark.read.csv('dataset.csv', header = True, sep = \";\", inferSchema = True)\n",
        "df_dsa.printSchema()"
      ],
      "metadata": {
        "colab": {
          "base_uri": "https://localhost:8080/"
        },
        "id": "EaiOgpACzjec",
        "outputId": "de4ef6c8-6fc2-4bb7-e376-9f3095193026"
      },
      "execution_count": 59,
      "outputs": [
        {
          "output_type": "stream",
          "name": "stdout",
          "text": [
            "root\n",
            " |-- Car: string (nullable = true)\n",
            " |-- MPG: double (nullable = true)\n",
            " |-- Cylinders: integer (nullable = true)\n",
            " |-- Displacement: double (nullable = true)\n",
            " |-- Horsepower: double (nullable = true)\n",
            " |-- Weight: decimal(4,0) (nullable = true)\n",
            " |-- Acceleration: double (nullable = true)\n",
            " |-- Model: integer (nullable = true)\n",
            " |-- Origin: string (nullable = true)\n",
            "\n"
          ]
        }
      ]
    },
    {
      "cell_type": "code",
      "source": [
        "# Lista as colunas\n",
        "from pyspark.sql.types import *\n",
        "df_dsa.columns"
      ],
      "metadata": {
        "colab": {
          "base_uri": "https://localhost:8080/"
        },
        "id": "Ba5aA2Cj0JAp",
        "outputId": "fb7b8e93-0427-4d5f-8777-15365d3c6fd2"
      },
      "execution_count": 60,
      "outputs": [
        {
          "output_type": "execute_result",
          "data": {
            "text/plain": [
              "['Car',\n",
              " 'MPG',\n",
              " 'Cylinders',\n",
              " 'Displacement',\n",
              " 'Horsepower',\n",
              " 'Weight',\n",
              " 'Acceleration',\n",
              " 'Model',\n",
              " 'Origin']"
            ]
          },
          "metadata": {},
          "execution_count": 60
        }
      ]
    },
    {
      "cell_type": "code",
      "source": [
        "# Criando uma ista de Tuplas do esquema no formato coluna:tipo\n",
        "labels = [\n",
        "    ('Car', StringType()),\n",
        "    ('MPG', DoubleType()),\n",
        "    ('Cylinders', IntegerType()),\n",
        "    ('Displacement', DoubleType()),\n",
        "    ('Horsepower', DoubleType()),\n",
        "    ('Weight', DoubleType()),\n",
        "    ('Acceleration', DoubleType()),\n",
        "    ('Model', IntegerType()),\n",
        "    ('Origin', StringType())\n",
        "]"
      ],
      "metadata": {
        "id": "wLE7TUn90mR5"
      },
      "execution_count": 61,
      "outputs": []
    },
    {
      "cell_type": "code",
      "source": [
        "# Cirando o esquema que será passado na leitura do arquivo\n",
        "schema = StructType((StructField (x[0], x[1], True) for x in labels))\n",
        "schema"
      ],
      "metadata": {
        "colab": {
          "base_uri": "https://localhost:8080/"
        },
        "id": "A5PxDzJ80mPP",
        "outputId": "ad6bc612-46de-4396-aff2-fcaab335b397"
      },
      "execution_count": 62,
      "outputs": [
        {
          "output_type": "execute_result",
          "data": {
            "text/plain": [
              "StructType([])"
            ]
          },
          "metadata": {},
          "execution_count": 62
        }
      ]
    },
    {
      "cell_type": "code",
      "source": [
        "# Carrega o dataset com schema definifo\n",
        "fd_dsa = spark.read.csv('dataset.csv', header = True, sep = \";\", schema = schema)\n",
        "df_dsa.printSchema()"
      ],
      "metadata": {
        "colab": {
          "base_uri": "https://localhost:8080/"
        },
        "id": "pgeC4IGf0mFm",
        "outputId": "2614d8f8-89c1-4a0f-9680-c143e8c9c072"
      },
      "execution_count": 64,
      "outputs": [
        {
          "output_type": "stream",
          "name": "stdout",
          "text": [
            "root\n",
            " |-- Car: string (nullable = true)\n",
            " |-- MPG: double (nullable = true)\n",
            " |-- Cylinders: integer (nullable = true)\n",
            " |-- Displacement: double (nullable = true)\n",
            " |-- Horsepower: double (nullable = true)\n",
            " |-- Weight: decimal(4,0) (nullable = true)\n",
            " |-- Acceleration: double (nullable = true)\n",
            " |-- Model: integer (nullable = true)\n",
            " |-- Origin: string (nullable = true)\n",
            "\n"
          ]
        }
      ]
    },
    {
      "cell_type": "code",
      "source": [
        "# Visualia os dados\n",
        "df_dsa.show()"
      ],
      "metadata": {
        "colab": {
          "base_uri": "https://localhost:8080/"
        },
        "id": "2GgvPned0mC5",
        "outputId": "9a8f092b-d9b7-44f5-b089-f84af64e5b47"
      },
      "execution_count": 65,
      "outputs": [
        {
          "output_type": "stream",
          "name": "stdout",
          "text": [
            "+--------------------+----+---------+------------+----------+------+------------+-----+------+\n",
            "|                 Car| MPG|Cylinders|Displacement|Horsepower|Weight|Acceleration|Model|Origin|\n",
            "+--------------------+----+---------+------------+----------+------+------------+-----+------+\n",
            "|Chevrolet Chevell...|18.0|        8|       307.0|     130.0|  3504|        12.0|   70|    US|\n",
            "|   Buick Skylark 320|15.0|        8|       350.0|     165.0|  3693|        11.5|   70|    US|\n",
            "|  Plymouth Satellite|18.0|        8|       318.0|     150.0|  3436|        11.0|   70|    US|\n",
            "|       AMC Rebel SST|16.0|        8|       304.0|     150.0|  3433|        12.0|   70|    US|\n",
            "|         Ford Torino|17.0|        8|       302.0|     140.0|  3449|        10.5|   70|    US|\n",
            "|    Ford Galaxie 500|15.0|        8|       429.0|     198.0|  4341|        10.0|   70|    US|\n",
            "|    Chevrolet Impala|14.0|        8|       454.0|     220.0|  4354|         9.0|   70|    US|\n",
            "|   Plymouth Fury iii|14.0|        8|       440.0|     215.0|  4312|         8.5|   70|    US|\n",
            "|    Pontiac Catalina|14.0|        8|       455.0|     225.0|  4425|        10.0|   70|    US|\n",
            "|  AMC Ambassador DPL|15.0|        8|       390.0|     190.0|  3850|         8.5|   70|    US|\n",
            "|Citroen DS-21 Pallas| 0.0|        4|       133.0|     115.0|  3090|        17.5|   70|Europe|\n",
            "|Chevrolet Chevell...| 0.0|        8|       350.0|     165.0|  4142|        11.5|   70|    US|\n",
            "|    Ford Torino (sw)| 0.0|        8|       351.0|     153.0|  4034|        11.0|   70|    US|\n",
            "|Plymouth Satellit...| 0.0|        8|       383.0|     175.0|  4166|        10.5|   70|    US|\n",
            "|  AMC Rebel SST (sw)| 0.0|        8|       360.0|     175.0|  3850|        11.0|   70|    US|\n",
            "| Dodge Challenger SE|15.0|        8|       383.0|     170.0|  3563|        10.0|   70|    US|\n",
            "|  Plymouth 'Cuda 340|14.0|        8|       340.0|     160.0|  3609|         8.0|   70|    US|\n",
            "|Ford Mustang Boss...| 0.0|        8|       302.0|     140.0|  3353|         8.0|   70|    US|\n",
            "|Chevrolet Monte C...|15.0|        8|       400.0|     150.0|  3761|         9.5|   70|    US|\n",
            "|Buick Estate Wago...|14.0|        8|       455.0|     225.0|  3086|        10.0|   70|    US|\n",
            "+--------------------+----+---------+------------+----------+------+------------+-----+------+\n",
            "only showing top 20 rows\n",
            "\n"
          ]
        }
      ]
    },
    {
      "cell_type": "code",
      "source": [
        "# 3 fomas de selecionar as linhas da coluna Car(nome da coluna é case sensitive)\n",
        "print('1. Forma com df_dsa.select(df_dsa.Car)')\n",
        "df_dsa.select(df_dsa.Car).show(truncate = False)\n",
        "\n",
        "print('\\n2. Forma com df_dsa.select(df_dsa[\\'car\\']')\n",
        "df_dsa.select(df_dsa['car']).show(truncate = False)\n",
        "\n",
        "print('\\n3. Forma com from pyspark.sql.functions import col\\ndf_dsa.select(col(\\'car\\')).show(truncate = False)')\n",
        "from pyspark.sql.functions import col\n",
        "df_dsa.select(col('car')).show(truncate = False)"
      ],
      "metadata": {
        "colab": {
          "base_uri": "https://localhost:8080/"
        },
        "id": "KwYlbFCa0mAF",
        "outputId": "ef279667-78b9-4d5f-9994-93e73f086dc7"
      },
      "execution_count": 86,
      "outputs": [
        {
          "output_type": "stream",
          "name": "stdout",
          "text": [
            "1. Forma com df_dsa.select(df_dsa.Car)\n",
            "+--------------------------------+\n",
            "|Car                             |\n",
            "+--------------------------------+\n",
            "|Chevrolet Chevelle Malibu       |\n",
            "|Buick Skylark 320               |\n",
            "|Plymouth Satellite              |\n",
            "|AMC Rebel SST                   |\n",
            "|Ford Torino                     |\n",
            "|Ford Galaxie 500                |\n",
            "|Chevrolet Impala                |\n",
            "|Plymouth Fury iii               |\n",
            "|Pontiac Catalina                |\n",
            "|AMC Ambassador DPL              |\n",
            "|Citroen DS-21 Pallas            |\n",
            "|Chevrolet Chevelle Concours (sw)|\n",
            "|Ford Torino (sw)                |\n",
            "|Plymouth Satellite (sw)         |\n",
            "|AMC Rebel SST (sw)              |\n",
            "|Dodge Challenger SE             |\n",
            "|Plymouth 'Cuda 340              |\n",
            "|Ford Mustang Boss 302           |\n",
            "|Chevrolet Monte Carlo           |\n",
            "|Buick Estate Wagon (sw)         |\n",
            "+--------------------------------+\n",
            "only showing top 20 rows\n",
            "\n",
            "\n",
            "2. Forma com df_dsa.select(df_dsa['car']\n",
            "+--------------------------------+\n",
            "|car                             |\n",
            "+--------------------------------+\n",
            "|Chevrolet Chevelle Malibu       |\n",
            "|Buick Skylark 320               |\n",
            "|Plymouth Satellite              |\n",
            "|AMC Rebel SST                   |\n",
            "|Ford Torino                     |\n",
            "|Ford Galaxie 500                |\n",
            "|Chevrolet Impala                |\n",
            "|Plymouth Fury iii               |\n",
            "|Pontiac Catalina                |\n",
            "|AMC Ambassador DPL              |\n",
            "|Citroen DS-21 Pallas            |\n",
            "|Chevrolet Chevelle Concours (sw)|\n",
            "|Ford Torino (sw)                |\n",
            "|Plymouth Satellite (sw)         |\n",
            "|AMC Rebel SST (sw)              |\n",
            "|Dodge Challenger SE             |\n",
            "|Plymouth 'Cuda 340              |\n",
            "|Ford Mustang Boss 302           |\n",
            "|Chevrolet Monte Carlo           |\n",
            "|Buick Estate Wagon (sw)         |\n",
            "+--------------------------------+\n",
            "only showing top 20 rows\n",
            "\n",
            "\n",
            "3. Forma com from pyspark.sql.functions import col\n",
            "df_dsa.select(col('car')).show(truncate = False)\n",
            "+--------------------------------+\n",
            "|car                             |\n",
            "+--------------------------------+\n",
            "|Chevrolet Chevelle Malibu       |\n",
            "|Buick Skylark 320               |\n",
            "|Plymouth Satellite              |\n",
            "|AMC Rebel SST                   |\n",
            "|Ford Torino                     |\n",
            "|Ford Galaxie 500                |\n",
            "|Chevrolet Impala                |\n",
            "|Plymouth Fury iii               |\n",
            "|Pontiac Catalina                |\n",
            "|AMC Ambassador DPL              |\n",
            "|Citroen DS-21 Pallas            |\n",
            "|Chevrolet Chevelle Concours (sw)|\n",
            "|Ford Torino (sw)                |\n",
            "|Plymouth Satellite (sw)         |\n",
            "|AMC Rebel SST (sw)              |\n",
            "|Dodge Challenger SE             |\n",
            "|Plymouth 'Cuda 340              |\n",
            "|Ford Mustang Boss 302           |\n",
            "|Chevrolet Monte Carlo           |\n",
            "|Buick Estate Wagon (sw)         |\n",
            "+--------------------------------+\n",
            "only showing top 20 rows\n",
            "\n"
          ]
        }
      ]
    },
    {
      "cell_type": "code",
      "source": [
        "# Seleciona as linhas de duas colunas\n",
        "df_dsa.select(df_dsa.Car, df_dsa.Cylinders).show(truncate = False)"
      ],
      "metadata": {
        "colab": {
          "base_uri": "https://localhost:8080/"
        },
        "id": "B9myfduJ7cQq",
        "outputId": "1f8bd227-fea5-47dd-c13d-3b2b27678c2f"
      },
      "execution_count": 76,
      "outputs": [
        {
          "output_type": "stream",
          "name": "stdout",
          "text": [
            "+--------------------------------+---------+\n",
            "|Car                             |Cylinders|\n",
            "+--------------------------------+---------+\n",
            "|Chevrolet Chevelle Malibu       |8        |\n",
            "|Buick Skylark 320               |8        |\n",
            "|Plymouth Satellite              |8        |\n",
            "|AMC Rebel SST                   |8        |\n",
            "|Ford Torino                     |8        |\n",
            "|Ford Galaxie 500                |8        |\n",
            "|Chevrolet Impala                |8        |\n",
            "|Plymouth Fury iii               |8        |\n",
            "|Pontiac Catalina                |8        |\n",
            "|AMC Ambassador DPL              |8        |\n",
            "|Citroen DS-21 Pallas            |4        |\n",
            "|Chevrolet Chevelle Concours (sw)|8        |\n",
            "|Ford Torino (sw)                |8        |\n",
            "|Plymouth Satellite (sw)         |8        |\n",
            "|AMC Rebel SST (sw)              |8        |\n",
            "|Dodge Challenger SE             |8        |\n",
            "|Plymouth 'Cuda 340              |8        |\n",
            "|Ford Mustang Boss 302           |8        |\n",
            "|Chevrolet Monte Carlo           |8        |\n",
            "|Buick Estate Wagon (sw)         |8        |\n",
            "+--------------------------------+---------+\n",
            "only showing top 20 rows\n",
            "\n"
          ]
        }
      ]
    },
    {
      "cell_type": "code",
      "source": [
        "df_dsa.select(df_dsa['car'], df_dsa['cylinders']).show(truncate = False)"
      ],
      "metadata": {
        "colab": {
          "base_uri": "https://localhost:8080/"
        },
        "id": "lbvYdhNP8PdX",
        "outputId": "7b8bee62-cabc-477e-b8f5-69cad62622a5"
      },
      "execution_count": 80,
      "outputs": [
        {
          "output_type": "stream",
          "name": "stdout",
          "text": [
            "+--------------------------------+---------+\n",
            "|car                             |cylinders|\n",
            "+--------------------------------+---------+\n",
            "|Chevrolet Chevelle Malibu       |8        |\n",
            "|Buick Skylark 320               |8        |\n",
            "|Plymouth Satellite              |8        |\n",
            "|AMC Rebel SST                   |8        |\n",
            "|Ford Torino                     |8        |\n",
            "|Ford Galaxie 500                |8        |\n",
            "|Chevrolet Impala                |8        |\n",
            "|Plymouth Fury iii               |8        |\n",
            "|Pontiac Catalina                |8        |\n",
            "|AMC Ambassador DPL              |8        |\n",
            "|Citroen DS-21 Pallas            |4        |\n",
            "|Chevrolet Chevelle Concours (sw)|8        |\n",
            "|Ford Torino (sw)                |8        |\n",
            "|Plymouth Satellite (sw)         |8        |\n",
            "|AMC Rebel SST (sw)              |8        |\n",
            "|Dodge Challenger SE             |8        |\n",
            "|Plymouth 'Cuda 340              |8        |\n",
            "|Ford Mustang Boss 302           |8        |\n",
            "|Chevrolet Monte Carlo           |8        |\n",
            "|Buick Estate Wagon (sw)         |8        |\n",
            "+--------------------------------+---------+\n",
            "only showing top 20 rows\n",
            "\n"
          ]
        }
      ]
    },
    {
      "cell_type": "code",
      "source": [
        "df_dsa.select(col('car'), col('cylinders')).show(truncate = False)"
      ],
      "metadata": {
        "colab": {
          "base_uri": "https://localhost:8080/"
        },
        "id": "kGakKW4n8q3J",
        "outputId": "17e3ebf3-a840-49d8-c2b8-0fff161ac978"
      },
      "execution_count": 81,
      "outputs": [
        {
          "output_type": "stream",
          "name": "stdout",
          "text": [
            "+--------------------------------+---------+\n",
            "|car                             |cylinders|\n",
            "+--------------------------------+---------+\n",
            "|Chevrolet Chevelle Malibu       |8        |\n",
            "|Buick Skylark 320               |8        |\n",
            "|Plymouth Satellite              |8        |\n",
            "|AMC Rebel SST                   |8        |\n",
            "|Ford Torino                     |8        |\n",
            "|Ford Galaxie 500                |8        |\n",
            "|Chevrolet Impala                |8        |\n",
            "|Plymouth Fury iii               |8        |\n",
            "|Pontiac Catalina                |8        |\n",
            "|AMC Ambassador DPL              |8        |\n",
            "|Citroen DS-21 Pallas            |4        |\n",
            "|Chevrolet Chevelle Concours (sw)|8        |\n",
            "|Ford Torino (sw)                |8        |\n",
            "|Plymouth Satellite (sw)         |8        |\n",
            "|AMC Rebel SST (sw)              |8        |\n",
            "|Dodge Challenger SE             |8        |\n",
            "|Plymouth 'Cuda 340              |8        |\n",
            "|Ford Mustang Boss 302           |8        |\n",
            "|Chevrolet Monte Carlo           |8        |\n",
            "|Buick Estate Wagon (sw)         |8        |\n",
            "+--------------------------------+---------+\n",
            "only showing top 20 rows\n",
            "\n"
          ]
        }
      ]
    },
    {
      "cell_type": "markdown",
      "source": [
        "#<font color=\"white\">Adicionando coluna do dataset</font>"
      ],
      "metadata": {
        "id": "wybicJMw99Nu"
      }
    },
    {
      "cell_type": "code",
      "source": [
        "# Utilizando a função lit(), cria uma coluna com um literal\n",
        "from pyspark.sql.functions import lit\n",
        "df_dsa = df_dsa.withColumn('Registro', lit(True))\n",
        "df_dsa.show(5, truncate = False)"
      ],
      "metadata": {
        "colab": {
          "base_uri": "https://localhost:8080/"
        },
        "id": "D1I4Gy0P86P1",
        "outputId": "27933e4f-b294-46f9-98b1-29b7d2746070"
      },
      "execution_count": 90,
      "outputs": [
        {
          "output_type": "stream",
          "name": "stdout",
          "text": [
            "+-------------------------+----+---------+------------+----------+------+------------+-----+------+--------+\n",
            "|Car                      |MPG |Cylinders|Displacement|Horsepower|Weight|Acceleration|Model|Origin|Registro|\n",
            "+-------------------------+----+---------+------------+----------+------+------------+-----+------+--------+\n",
            "|Chevrolet Chevelle Malibu|18.0|8        |307.0       |130.0     |3504  |12.0        |70   |US    |true    |\n",
            "|Buick Skylark 320        |15.0|8        |350.0       |165.0     |3693  |11.5        |70   |US    |true    |\n",
            "|Plymouth Satellite       |18.0|8        |318.0       |150.0     |3436  |11.0        |70   |US    |true    |\n",
            "|AMC Rebel SST            |16.0|8        |304.0       |150.0     |3433  |12.0        |70   |US    |true    |\n",
            "|Ford Torino              |17.0|8        |302.0       |140.0     |3449  |10.5        |70   |US    |true    |\n",
            "+-------------------------+----+---------+------------+----------+------+------------+-----+------+--------+\n",
            "only showing top 5 rows\n",
            "\n"
          ]
        }
      ]
    },
    {
      "cell_type": "code",
      "source": [
        "# Adicionando duas coluna\n",
        "df_dsa = df_dsa.withColumn('Codigo', lit(10)).withColumn('Estado', lit('Zero Km'))\n",
        "df_dsa.show(5, truncate = False)"
      ],
      "metadata": {
        "colab": {
          "base_uri": "https://localhost:8080/"
        },
        "id": "Jb5E9FOr-jMF",
        "outputId": "88fd2b27-0ef0-41d4-e01e-6335557384eb"
      },
      "execution_count": 93,
      "outputs": [
        {
          "output_type": "stream",
          "name": "stdout",
          "text": [
            "+-------------------------+----+---------+------------+----------+------+------------+-----+------+--------+------+-------+\n",
            "|Car                      |MPG |Cylinders|Displacement|Horsepower|Weight|Acceleration|Model|Origin|Registro|Codigo|Estado |\n",
            "+-------------------------+----+---------+------------+----------+------+------------+-----+------+--------+------+-------+\n",
            "|Chevrolet Chevelle Malibu|18.0|8        |307.0       |130.0     |3504  |12.0        |70   |US    |true    |10    |Zero Km|\n",
            "|Buick Skylark 320        |15.0|8        |350.0       |165.0     |3693  |11.5        |70   |US    |true    |10    |Zero Km|\n",
            "|Plymouth Satellite       |18.0|8        |318.0       |150.0     |3436  |11.0        |70   |US    |true    |10    |Zero Km|\n",
            "|AMC Rebel SST            |16.0|8        |304.0       |150.0     |3433  |12.0        |70   |US    |true    |10    |Zero Km|\n",
            "|Ford Torino              |17.0|8        |302.0       |140.0     |3449  |10.5        |70   |US    |true    |10    |Zero Km|\n",
            "+-------------------------+----+---------+------------+----------+------+------------+-----+------+--------+------+-------+\n",
            "only showing top 5 rows\n",
            "\n"
          ]
        }
      ]
    },
    {
      "cell_type": "code",
      "source": [
        "# Concatena colunas do dataset com um literal, criando uma nova coluna\n",
        "from pyspark.sql.functions import concat\n",
        "df_dsa = df_dsa.withColumn('Modelo_Carro', concat(col(\"Car\"), lit(\" - \"), col(\"model\")))\n",
        "df_dsa.show(5, truncate = False)\n"
      ],
      "metadata": {
        "colab": {
          "base_uri": "https://localhost:8080/"
        },
        "id": "55ByyBMf-I4P",
        "outputId": "32c404b7-8e54-48b3-8df1-6cc2879fd302"
      },
      "execution_count": 97,
      "outputs": [
        {
          "output_type": "stream",
          "name": "stdout",
          "text": [
            "+-------------------------+----+---------+------------+----------+------+------------+-----+------+--------+------+-------+------------------------------+\n",
            "|Car                      |MPG |Cylinders|Displacement|Horsepower|Weight|Acceleration|Model|Origin|Registro|Codigo|Estado |Modelo_Carro                  |\n",
            "+-------------------------+----+---------+------------+----------+------+------------+-----+------+--------+------+-------+------------------------------+\n",
            "|Chevrolet Chevelle Malibu|18.0|8        |307.0       |130.0     |3504  |12.0        |70   |US    |true    |10    |Zero Km|Chevrolet Chevelle Malibu - 70|\n",
            "|Buick Skylark 320        |15.0|8        |350.0       |165.0     |3693  |11.5        |70   |US    |true    |10    |Zero Km|Buick Skylark 320 - 70        |\n",
            "|Plymouth Satellite       |18.0|8        |318.0       |150.0     |3436  |11.0        |70   |US    |true    |10    |Zero Km|Plymouth Satellite - 70       |\n",
            "|AMC Rebel SST            |16.0|8        |304.0       |150.0     |3433  |12.0        |70   |US    |true    |10    |Zero Km|AMC Rebel SST - 70            |\n",
            "|Ford Torino              |17.0|8        |302.0       |140.0     |3449  |10.5        |70   |US    |true    |10    |Zero Km|Ford Torino - 70              |\n",
            "+-------------------------+----+---------+------------+----------+------+------------+-----+------+--------+------+-------+------------------------------+\n",
            "only showing top 5 rows\n",
            "\n"
          ]
        }
      ]
    },
    {
      "cell_type": "code",
      "source": [
        "# Renomeando colunas\n",
        "df_dsa = df_dsa.withColumnRenamed('Registro', 'Registro_Car')\\\n",
        "                .withColumnRenamed('Codigo', 'Codigo_Car')\\\n",
        "                .withColumnRenamed('Estado', 'Estado_Car')\n",
        "df_dsa.show(5, truncate = False)\n"
      ],
      "metadata": {
        "colab": {
          "base_uri": "https://localhost:8080/"
        },
        "id": "9NEIkO49-I1N",
        "outputId": "cbbc769c-5a6f-4aa1-a0c5-8007cf55ca64"
      },
      "execution_count": 116,
      "outputs": [
        {
          "output_type": "stream",
          "name": "stdout",
          "text": [
            "+-------------------------+----+---------+------------+----------+------+------------+-----+------+----------+----------+------------------------------+\n",
            "|Car                      |MPG |Cylinders|Displacement|Horsepower|Weight|Acceleration|Model|Origin|Codigo_Car|Estado_Car|Modelo_Carro                  |\n",
            "+-------------------------+----+---------+------------+----------+------+------------+-----+------+----------+----------+------------------------------+\n",
            "|Chevrolet Chevelle Malibu|18.0|8        |307.0       |130.0     |3504  |12.0        |70   |US    |10        |Zero Km   |Chevrolet Chevelle Malibu - 70|\n",
            "|Buick Skylark 320        |15.0|8        |350.0       |165.0     |3693  |11.5        |70   |US    |10        |Zero Km   |Buick Skylark 320 - 70        |\n",
            "|Plymouth Satellite       |18.0|8        |318.0       |150.0     |3436  |11.0        |70   |US    |10        |Zero Km   |Plymouth Satellite - 70       |\n",
            "|AMC Rebel SST            |16.0|8        |304.0       |150.0     |3433  |12.0        |70   |US    |10        |Zero Km   |AMC Rebel SST - 70            |\n",
            "|Ford Torino              |17.0|8        |302.0       |140.0     |3449  |10.5        |70   |US    |10        |Zero Km   |Ford Torino - 70              |\n",
            "+-------------------------+----+---------+------------+----------+------+------------+-----+------+----------+----------+------------------------------+\n",
            "only showing top 5 rows\n",
            "\n"
          ]
        }
      ]
    },
    {
      "cell_type": "markdown",
      "source": [
        "#<font color=\"white\">Sintaxe do SQL do próprio PySpark</font>"
      ],
      "metadata": {
        "id": "Av3oCHIQKZzJ"
      }
    },
    {
      "cell_type": "code",
      "source": [
        "# Retorna valores únicos de uma coluna\n",
        "df_dsa.select('Origin').distinct().show()"
      ],
      "metadata": {
        "colab": {
          "base_uri": "https://localhost:8080/"
        },
        "id": "bh_ZrhPy-IwU",
        "outputId": "7874a7c5-80ff-4a73-ff7b-4ea02eddb282"
      },
      "execution_count": 117,
      "outputs": [
        {
          "output_type": "stream",
          "name": "stdout",
          "text": [
            "+------+\n",
            "|Origin|\n",
            "+------+\n",
            "|Europe|\n",
            "|    US|\n",
            "| Japan|\n",
            "+------+\n",
            "\n"
          ]
        }
      ]
    },
    {
      "cell_type": "code",
      "source": [
        "# Retorna valores únicos da combinação de duas colunas\n",
        "df_dsa.select('Origin', 'model').distinct().show()"
      ],
      "metadata": {
        "colab": {
          "base_uri": "https://localhost:8080/"
        },
        "id": "VpS-BEUh-Itk",
        "outputId": "8ab854c1-6ee2-478a-f45c-5716a8481c6d"
      },
      "execution_count": 118,
      "outputs": [
        {
          "output_type": "stream",
          "name": "stdout",
          "text": [
            "+------+-----+\n",
            "|Origin|model|\n",
            "+------+-----+\n",
            "|Europe|   71|\n",
            "|Europe|   80|\n",
            "|Europe|   79|\n",
            "| Japan|   75|\n",
            "|    US|   72|\n",
            "|    US|   80|\n",
            "|Europe|   74|\n",
            "| Japan|   79|\n",
            "|Europe|   76|\n",
            "|    US|   75|\n",
            "| Japan|   77|\n",
            "|    US|   82|\n",
            "| Japan|   80|\n",
            "| Japan|   78|\n",
            "|    US|   78|\n",
            "|Europe|   75|\n",
            "|    US|   71|\n",
            "|    US|   77|\n",
            "| Japan|   70|\n",
            "| Japan|   71|\n",
            "+------+-----+\n",
            "only showing top 20 rows\n",
            "\n"
          ]
        }
      ]
    },
    {
      "cell_type": "code",
      "source": [
        "#  Group By por coluna com PySpark\n",
        "df_dsa.groupBy('Origin').count().show(5)"
      ],
      "metadata": {
        "colab": {
          "base_uri": "https://localhost:8080/"
        },
        "id": "YrccAhRA-Iqv",
        "outputId": "ae4ef36b-3d32-40dd-d453-4d60a3ede107"
      },
      "execution_count": 119,
      "outputs": [
        {
          "output_type": "stream",
          "name": "stdout",
          "text": [
            "+------+-----+\n",
            "|Origin|count|\n",
            "+------+-----+\n",
            "|Europe|   73|\n",
            "|    US|  254|\n",
            "| Japan|   79|\n",
            "+------+-----+\n",
            "\n"
          ]
        }
      ]
    },
    {
      "cell_type": "code",
      "source": [
        "df_dsa.groupBy('Origin', 'Model').count().show(5)"
      ],
      "metadata": {
        "colab": {
          "base_uri": "https://localhost:8080/"
        },
        "id": "HOP4D48c-Ioa",
        "outputId": "a57b8568-903f-40ad-bf6f-dfa59e543707"
      },
      "execution_count": 120,
      "outputs": [
        {
          "output_type": "stream",
          "name": "stdout",
          "text": [
            "+------+-----+-----+\n",
            "|Origin|Model|count|\n",
            "+------+-----+-----+\n",
            "|Europe|   71|    5|\n",
            "|Europe|   80|    9|\n",
            "|Europe|   79|    4|\n",
            "| Japan|   75|    4|\n",
            "|    US|   72|   18|\n",
            "+------+-----+-----+\n",
            "only showing top 5 rows\n",
            "\n"
          ]
        }
      ]
    },
    {
      "cell_type": "code",
      "source": [
        "# Removendo colunas\n",
        "df_dsa = df_dsa.drop('Registro_Car')\n",
        "df_dsa.show(5, truncate = False)"
      ],
      "metadata": {
        "colab": {
          "base_uri": "https://localhost:8080/"
        },
        "id": "c17z9pY2-Il8",
        "outputId": "1d98e242-c2ef-4535-a497-4b298d2250af"
      },
      "execution_count": 121,
      "outputs": [
        {
          "output_type": "stream",
          "name": "stdout",
          "text": [
            "+-------------------------+----+---------+------------+----------+------+------------+-----+------+----------+----------+------------------------------+\n",
            "|Car                      |MPG |Cylinders|Displacement|Horsepower|Weight|Acceleration|Model|Origin|Codigo_Car|Estado_Car|Modelo_Carro                  |\n",
            "+-------------------------+----+---------+------------+----------+------+------------+-----+------+----------+----------+------------------------------+\n",
            "|Chevrolet Chevelle Malibu|18.0|8        |307.0       |130.0     |3504  |12.0        |70   |US    |10        |Zero Km   |Chevrolet Chevelle Malibu - 70|\n",
            "|Buick Skylark 320        |15.0|8        |350.0       |165.0     |3693  |11.5        |70   |US    |10        |Zero Km   |Buick Skylark 320 - 70        |\n",
            "|Plymouth Satellite       |18.0|8        |318.0       |150.0     |3436  |11.0        |70   |US    |10        |Zero Km   |Plymouth Satellite - 70       |\n",
            "|AMC Rebel SST            |16.0|8        |304.0       |150.0     |3433  |12.0        |70   |US    |10        |Zero Km   |AMC Rebel SST - 70            |\n",
            "|Ford Torino              |17.0|8        |302.0       |140.0     |3449  |10.5        |70   |US    |10        |Zero Km   |Ford Torino - 70              |\n",
            "+-------------------------+----+---------+------------+----------+------+------------+-----+------+----------+----------+------------------------------+\n",
            "only showing top 5 rows\n",
            "\n"
          ]
        }
      ]
    },
    {
      "cell_type": "code",
      "source": [
        "df_dsa = df_dsa.drop('Codigo_Car').drop('Estado_Car')\n",
        "df_dsa.show(5, truncate = False)"
      ],
      "metadata": {
        "colab": {
          "base_uri": "https://localhost:8080/"
        },
        "id": "qLiAyAMF-IjO",
        "outputId": "c8a4cee7-2a00-448a-f60b-a63b63bf1057"
      },
      "execution_count": 122,
      "outputs": [
        {
          "output_type": "stream",
          "name": "stdout",
          "text": [
            "+-------------------------+----+---------+------------+----------+------+------------+-----+------+------------------------------+\n",
            "|Car                      |MPG |Cylinders|Displacement|Horsepower|Weight|Acceleration|Model|Origin|Modelo_Carro                  |\n",
            "+-------------------------+----+---------+------------+----------+------+------------+-----+------+------------------------------+\n",
            "|Chevrolet Chevelle Malibu|18.0|8        |307.0       |130.0     |3504  |12.0        |70   |US    |Chevrolet Chevelle Malibu - 70|\n",
            "|Buick Skylark 320        |15.0|8        |350.0       |165.0     |3693  |11.5        |70   |US    |Buick Skylark 320 - 70        |\n",
            "|Plymouth Satellite       |18.0|8        |318.0       |150.0     |3436  |11.0        |70   |US    |Plymouth Satellite - 70       |\n",
            "|AMC Rebel SST            |16.0|8        |304.0       |150.0     |3433  |12.0        |70   |US    |AMC Rebel SST - 70            |\n",
            "|Ford Torino              |17.0|8        |302.0       |140.0     |3449  |10.5        |70   |US    |Ford Torino - 70              |\n",
            "+-------------------------+----+---------+------------+----------+------+------------+-----+------+------------------------------+\n",
            "only showing top 5 rows\n",
            "\n"
          ]
        }
      ]
    },
    {
      "cell_type": "code",
      "source": [
        "# Filtrar linhas\n",
        "total_count = df_dsa.count()\n",
        "print(\"Total de Carros no Dataset: \" + str(total_count))\n",
        "usa_filtered_count = df_dsa.filter(col('Origin') =='US').count()\n",
        "print(\"Total de Carros no Dataset Produzidos nos EUA: \" + str(usa_filtered_count))\n",
        "df_dsa.filter(col('Origin')=='US').show(truncate = False)"
      ],
      "metadata": {
        "colab": {
          "base_uri": "https://localhost:8080/"
        },
        "id": "LdPAdgrG-IcC",
        "outputId": "fe6569ae-945b-419d-cd85-0a2dbb58de1d"
      },
      "execution_count": 125,
      "outputs": [
        {
          "output_type": "stream",
          "name": "stdout",
          "text": [
            "Total de Carros no Dataset: 406\n",
            "Total de Carros no Dataset Produzidos nos EUA: 254\n",
            "+--------------------------------+----+---------+------------+----------+------+------------+-----+------+-------------------------------------+\n",
            "|Car                             |MPG |Cylinders|Displacement|Horsepower|Weight|Acceleration|Model|Origin|Modelo_Carro                         |\n",
            "+--------------------------------+----+---------+------------+----------+------+------------+-----+------+-------------------------------------+\n",
            "|Chevrolet Chevelle Malibu       |18.0|8        |307.0       |130.0     |3504  |12.0        |70   |US    |Chevrolet Chevelle Malibu - 70       |\n",
            "|Buick Skylark 320               |15.0|8        |350.0       |165.0     |3693  |11.5        |70   |US    |Buick Skylark 320 - 70               |\n",
            "|Plymouth Satellite              |18.0|8        |318.0       |150.0     |3436  |11.0        |70   |US    |Plymouth Satellite - 70              |\n",
            "|AMC Rebel SST                   |16.0|8        |304.0       |150.0     |3433  |12.0        |70   |US    |AMC Rebel SST - 70                   |\n",
            "|Ford Torino                     |17.0|8        |302.0       |140.0     |3449  |10.5        |70   |US    |Ford Torino - 70                     |\n",
            "|Ford Galaxie 500                |15.0|8        |429.0       |198.0     |4341  |10.0        |70   |US    |Ford Galaxie 500 - 70                |\n",
            "|Chevrolet Impala                |14.0|8        |454.0       |220.0     |4354  |9.0         |70   |US    |Chevrolet Impala - 70                |\n",
            "|Plymouth Fury iii               |14.0|8        |440.0       |215.0     |4312  |8.5         |70   |US    |Plymouth Fury iii - 70               |\n",
            "|Pontiac Catalina                |14.0|8        |455.0       |225.0     |4425  |10.0        |70   |US    |Pontiac Catalina - 70                |\n",
            "|AMC Ambassador DPL              |15.0|8        |390.0       |190.0     |3850  |8.5         |70   |US    |AMC Ambassador DPL - 70              |\n",
            "|Chevrolet Chevelle Concours (sw)|0.0 |8        |350.0       |165.0     |4142  |11.5        |70   |US    |Chevrolet Chevelle Concours (sw) - 70|\n",
            "|Ford Torino (sw)                |0.0 |8        |351.0       |153.0     |4034  |11.0        |70   |US    |Ford Torino (sw) - 70                |\n",
            "|Plymouth Satellite (sw)         |0.0 |8        |383.0       |175.0     |4166  |10.5        |70   |US    |Plymouth Satellite (sw) - 70         |\n",
            "|AMC Rebel SST (sw)              |0.0 |8        |360.0       |175.0     |3850  |11.0        |70   |US    |AMC Rebel SST (sw) - 70              |\n",
            "|Dodge Challenger SE             |15.0|8        |383.0       |170.0     |3563  |10.0        |70   |US    |Dodge Challenger SE - 70             |\n",
            "|Plymouth 'Cuda 340              |14.0|8        |340.0       |160.0     |3609  |8.0         |70   |US    |Plymouth 'Cuda 340 - 70              |\n",
            "|Ford Mustang Boss 302           |0.0 |8        |302.0       |140.0     |3353  |8.0         |70   |US    |Ford Mustang Boss 302 - 70           |\n",
            "|Chevrolet Monte Carlo           |15.0|8        |400.0       |150.0     |3761  |9.5         |70   |US    |Chevrolet Monte Carlo - 70           |\n",
            "|Buick Estate Wagon (sw)         |14.0|8        |455.0       |225.0     |3086  |10.0        |70   |US    |Buick Estate Wagon (sw) - 70         |\n",
            "|Plymouth Duster                 |22.0|6        |198.0       |95.0      |2833  |15.5        |70   |US    |Plymouth Duster - 70                 |\n",
            "+--------------------------------+----+---------+------------+----------+------+------------+-----+------+-------------------------------------+\n",
            "only showing top 20 rows\n",
            "\n"
          ]
        }
      ]
    },
    {
      "cell_type": "code",
      "source": [
        "# Filtarndo linhas com múltiplas condições\n",
        "total_count = df_dsa.count()\n",
        "print(\"Total de Carros no Dataset: \" + str(total_count))\n",
        "europe_filtered_count = df_dsa.filter((col('Origin')=='Europe') & (col('Cylinders')==4)).count()\n",
        "print(\"Total de Carros no Dataset Produzidos na Europa e com 4 Cilindros: \" + str(europe_filtered_count))\n",
        "df_dsa.filter(col('Origin')=='Europe').show(truncate = False)"
      ],
      "metadata": {
        "colab": {
          "base_uri": "https://localhost:8080/"
        },
        "id": "_av7V37FNF9f",
        "outputId": "8be35569-2f4e-4af0-fc96-9e78541a168d"
      },
      "execution_count": 128,
      "outputs": [
        {
          "output_type": "stream",
          "name": "stdout",
          "text": [
            "Total de Carros no Dataset: 406\n",
            "Total de Carros no Dataset Produzidos na Europa e com 4 Cilindros: 66\n",
            "+----------------------------+----+---------+------------+----------+------+------------+-----+------+---------------------------------+\n",
            "|Car                         |MPG |Cylinders|Displacement|Horsepower|Weight|Acceleration|Model|Origin|Modelo_Carro                     |\n",
            "+----------------------------+----+---------+------------+----------+------+------------+-----+------+---------------------------------+\n",
            "|Citroen DS-21 Pallas        |0.0 |4        |133.0       |115.0     |3090  |17.5        |70   |Europe|Citroen DS-21 Pallas - 70        |\n",
            "|Volkswagen 1131 Deluxe Sedan|26.0|4        |97.0        |46.0      |1835  |20.5        |70   |Europe|Volkswagen 1131 Deluxe Sedan - 70|\n",
            "|Peugeot 504                 |25.0|4        |110.0       |87.0      |2672  |17.5        |70   |Europe|Peugeot 504 - 70                 |\n",
            "|Audi 100 LS                 |24.0|4        |107.0       |90.0      |2430  |14.5        |70   |Europe|Audi 100 LS - 70                 |\n",
            "|Saab 99e                    |25.0|4        |104.0       |95.0      |2375  |17.5        |70   |Europe|Saab 99e - 70                    |\n",
            "|BMW 2002                    |26.0|4        |121.0       |113.0     |2234  |12.5        |70   |Europe|BMW 2002 - 70                    |\n",
            "|Volkswagen Super Beetle 117 |0.0 |4        |97.0        |48.0      |1978  |20.0        |71   |Europe|Volkswagen Super Beetle 117 - 71 |\n",
            "|Opel 1900                   |28.0|4        |116.0       |90.0      |2123  |14.0        |71   |Europe|Opel 1900 - 71                   |\n",
            "|Peugeot 304                 |30.0|4        |79.0        |70.0      |2074  |19.5        |71   |Europe|Peugeot 304 - 71                 |\n",
            "|Fiat 124B                   |30.0|4        |88.0        |76.0      |2065  |14.5        |71   |Europe|Fiat 124B - 71                   |\n",
            "|Volkswagen Model 111        |27.0|4        |97.0        |60.0      |1834  |19.0        |71   |Europe|Volkswagen Model 111 - 71        |\n",
            "|Volkswagen Type 3           |23.0|4        |97.0        |54.0      |2254  |23.5        |72   |Europe|Volkswagen Type 3 - 72           |\n",
            "|Volvo 145e (sw)             |18.0|4        |121.0       |112.0     |2933  |14.5        |72   |Europe|Volvo 145e (sw) - 72             |\n",
            "|Volkswagen 411 (sw)         |22.0|4        |121.0       |76.0      |2511  |18.0        |72   |Europe|Volkswagen 411 (sw) - 72         |\n",
            "|Peugeot 504 (sw)            |21.0|4        |120.0       |87.0      |2979  |19.5        |72   |Europe|Peugeot 504 (sw) - 72            |\n",
            "|Renault 12 (sw)             |26.0|4        |96.0        |69.0      |2189  |18.0        |72   |Europe|Renault 12 (sw) - 72             |\n",
            "|Volkswagen Super Beetle     |26.0|4        |97.0        |46.0      |1950  |21.0        |73   |Europe|Volkswagen Super Beetle - 73     |\n",
            "|Fiat 124 Sport Coupe        |26.0|4        |98.0        |90.0      |2265  |15.5        |73   |Europe|Fiat 124 Sport Coupe - 73        |\n",
            "|Fiat 128                    |29.0|4        |68.0        |49.0      |1867  |19.5        |73   |Europe|Fiat 128 - 73                    |\n",
            "|Opel Manta                  |24.0|4        |116.0       |75.0      |2158  |15.5        |73   |Europe|Opel Manta - 73                  |\n",
            "+----------------------------+----+---------+------------+----------+------+------------+-----+------+---------------------------------+\n",
            "only showing top 20 rows\n",
            "\n"
          ]
        }
      ]
    },
    {
      "cell_type": "code",
      "source": [
        "# Ordenar as linhas (por padrão em ordem ascendente)\n",
        "df_dsa.orderBy('Cylinders').show(truncate = False)"
      ],
      "metadata": {
        "colab": {
          "base_uri": "https://localhost:8080/"
        },
        "id": "QDnj1M2vNF3t",
        "outputId": "d121a531-afdd-4ec3-a8d1-a9f6f78c185b"
      },
      "execution_count": 130,
      "outputs": [
        {
          "output_type": "stream",
          "name": "stdout",
          "text": [
            "+----------------------------+----+---------+------------+----------+------+------------+-----+------+---------------------------------+\n",
            "|Car                         |MPG |Cylinders|Displacement|Horsepower|Weight|Acceleration|Model|Origin|Modelo_Carro                     |\n",
            "+----------------------------+----+---------+------------+----------+------+------------+-----+------+---------------------------------+\n",
            "|Mazda RX2 Coupe             |19.0|3        |70.0        |97.0      |2330  |13.5        |72   |Japan |Mazda RX2 Coupe - 72             |\n",
            "|Mazda RX3                   |18.0|3        |70.0        |90.0      |2124  |13.5        |73   |Japan |Mazda RX3 - 73                   |\n",
            "|Mazda RX-4                  |21.5|3        |80.0        |110.0     |2720  |13.5        |77   |Japan |Mazda RX-4 - 77                  |\n",
            "|Mazda RX-7 GS               |23.7|3        |70.0        |100.0     |2420  |12.5        |80   |Japan |Mazda RX-7 GS - 80               |\n",
            "|Datsun 510 (sw)             |28.0|4        |97.0        |92.0      |2288  |17.0        |72   |Japan |Datsun 510 (sw) - 72             |\n",
            "|Mercury Capri 2000          |23.0|4        |122.0       |86.0      |2220  |14.0        |71   |US    |Mercury Capri 2000 - 71          |\n",
            "|Chevrolet Vega (sw)         |22.0|4        |140.0       |72.0      |2408  |19.0        |71   |US    |Chevrolet Vega (sw) - 71         |\n",
            "|Opel 1900                   |28.0|4        |116.0       |90.0      |2123  |14.0        |71   |Europe|Opel 1900 - 71                   |\n",
            "|Volkswagen 1131 Deluxe Sedan|26.0|4        |97.0        |46.0      |1835  |20.5        |70   |Europe|Volkswagen 1131 Deluxe Sedan - 70|\n",
            "|Peugeot 304                 |30.0|4        |79.0        |70.0      |2074  |19.5        |71   |Europe|Peugeot 304 - 71                 |\n",
            "|Audi 100 LS                 |24.0|4        |107.0       |90.0      |2430  |14.5        |70   |Europe|Audi 100 LS - 70                 |\n",
            "|Fiat 124B                   |30.0|4        |88.0        |76.0      |2065  |14.5        |71   |Europe|Fiat 124B - 71                   |\n",
            "|BMW 2002                    |26.0|4        |121.0       |113.0     |2234  |12.5        |70   |Europe|BMW 2002 - 70                    |\n",
            "|Toyota Corolla 1200         |31.0|4        |71.0        |65.0      |1773  |19.0        |71   |Japan |Toyota Corolla 1200 - 71         |\n",
            "|Chevrolet Vega 2300         |28.0|4        |140.0       |90.0      |2264  |15.5        |71   |US    |Chevrolet Vega 2300 - 71         |\n",
            "|Datsun 1200                 |35.0|4        |72.0        |69.0      |1613  |18.0        |71   |Japan |Datsun 1200 - 71                 |\n",
            "|Ford Pinto                  |25.0|4        |98.0        |0.0       |2046  |19.0        |71   |US    |Ford Pinto - 71                  |\n",
            "|Volkswagen Model 111        |27.0|4        |97.0        |60.0      |1834  |19.0        |71   |Europe|Volkswagen Model 111 - 71        |\n",
            "|Dodge Colt Hardtop          |25.0|4        |97.5        |80.0      |2126  |17.0        |72   |US    |Dodge Colt Hardtop - 72          |\n",
            "|Volkswagen Type 3           |23.0|4        |97.0        |54.0      |2254  |23.5        |72   |Europe|Volkswagen Type 3 - 72           |\n",
            "+----------------------------+----+---------+------------+----------+------+------------+-----+------+---------------------------------+\n",
            "only showing top 20 rows\n",
            "\n"
          ]
        }
      ]
    },
    {
      "cell_type": "code",
      "source": [
        "# Usando groupBy e orderBy juntos\n",
        "df_dsa.groupBy('Origin').count().orderBy('count', ascending = False).show()"
      ],
      "metadata": {
        "colab": {
          "base_uri": "https://localhost:8080/"
        },
        "id": "8Z9EGcCzNF0o",
        "outputId": "4ddaf763-95ec-4d0f-f2f4-76f39867e9ee"
      },
      "execution_count": 131,
      "outputs": [
        {
          "output_type": "stream",
          "name": "stdout",
          "text": [
            "+------+-----+\n",
            "|Origin|count|\n",
            "+------+-----+\n",
            "|    US|  254|\n",
            "| Japan|   79|\n",
            "|Europe|   73|\n",
            "+------+-----+\n",
            "\n"
          ]
        }
      ]
    },
    {
      "cell_type": "code",
      "source": [
        "# Filtra os dataset\n",
        "df_dsa = spark.read.csv('dataset.csv', header = True, sep = \";\", inferSchema = True)\n",
        "europe_cars = df_dsa.filter((col('Origin')=='Europe') & (col('Cylinders')==5))\n",
        "japan_cars = df_dsa.filter((col('Origin')=='Japan') & (col('Cylinders')==3))"
      ],
      "metadata": {
        "id": "LvcNgqb1NFxt"
      },
      "execution_count": 137,
      "outputs": []
    },
    {
      "cell_type": "code",
      "source": [
        "# Union\n",
        "print(\"Carros Produzidos na Europa: \" + str(europe_cars.count()))\n",
        "print(\"Carros ProduZidos no Japão: \" + str(japan_cars.count()))\n",
        "print(\"Total de Carros Produzidso na Europa e Japão: \" + str(europe_cars.union(japan_cars).count()))"
      ],
      "metadata": {
        "colab": {
          "base_uri": "https://localhost:8080/"
        },
        "id": "pwG7zdEvNFub",
        "outputId": "4df61a30-72f5-4916-e424-f34bc1df5a72"
      },
      "execution_count": 141,
      "outputs": [
        {
          "output_type": "stream",
          "name": "stdout",
          "text": [
            "Carros Produzidos na Europa: 3\n",
            "Carros ProduZidos no Japão: 4\n",
            "Total de Carros Produzidso na Europa e Japão: 7\n"
          ]
        }
      ]
    },
    {
      "cell_type": "code",
      "source": [
        "# UnionBtName (quando as colunas estão fora de ordem)\n",
        "df1 = spark.createDataFrame([[12, 34, 10]], [\"col1\", \"col2\", \"col3\"])\n",
        "df2 = spark.createDataFrame([[87, 71, 29]], [\"col2\", \"col3\", \"col1\"])\n",
        "df1.unionByName(df2).show()"
      ],
      "metadata": {
        "colab": {
          "base_uri": "https://localhost:8080/"
        },
        "id": "DDRMKB4ONFrI",
        "outputId": "d9999451-c470-4ae1-b95a-10301b30243f"
      },
      "execution_count": 145,
      "outputs": [
        {
          "output_type": "stream",
          "name": "stdout",
          "text": [
            "+----+----+----+\n",
            "|col1|col2|col3|\n",
            "+----+----+----+\n",
            "|  12|  34|  10|\n",
            "|  29|  87|  71|\n",
            "+----+----+----+\n",
            "\n"
          ]
        }
      ]
    },
    {
      "cell_type": "code",
      "source": [
        "# Functions\n",
        "from pyspark.sql import functions\n",
        "print(dir(functions))"
      ],
      "metadata": {
        "colab": {
          "base_uri": "https://localhost:8080/"
        },
        "id": "o4BLORHnNFij",
        "outputId": "5fac92e2-83ef-490b-baeb-867ed33de48c"
      },
      "execution_count": 146,
      "outputs": [
        {
          "output_type": "stream",
          "name": "stdout",
          "text": [
            "['Any', 'ArrayType', 'Callable', 'Column', 'DataFrame', 'DataType', 'Dict', 'Iterable', 'JVMView', 'List', 'Optional', 'PandasUDFType', 'PySparkTypeError', 'PySparkValueError', 'PythonEvalType', 'SparkContext', 'StringType', 'StructType', 'TYPE_CHECKING', 'Tuple', 'Union', 'UserDefinedFunction', 'ValuesView', '__builtins__', '__cached__', '__doc__', '__file__', '__loader__', '__name__', '__package__', '__spec__', '_create_column_from_literal', '_create_lambda', '_create_py_udf', '_from_numpy_type', '_get_jvm_function', '_get_lambda_parameters', '_invoke_binary_math_function', '_invoke_function', '_invoke_function_over_columns', '_invoke_function_over_seq_of_columns', '_invoke_higher_order_function', '_options_to_str', '_test', '_to_java_column', '_to_seq', '_unresolved_named_lambda_variable', 'abs', 'acos', 'acosh', 'add_months', 'aggregate', 'approxCountDistinct', 'approx_count_distinct', 'array', 'array_append', 'array_compact', 'array_contains', 'array_distinct', 'array_except', 'array_insert', 'array_intersect', 'array_join', 'array_max', 'array_min', 'array_position', 'array_remove', 'array_repeat', 'array_sort', 'array_union', 'arrays_overlap', 'arrays_zip', 'asc', 'asc_nulls_first', 'asc_nulls_last', 'ascii', 'asin', 'asinh', 'assert_true', 'atan', 'atan2', 'atanh', 'avg', 'base64', 'bin', 'bit_length', 'bitwiseNOT', 'bitwise_not', 'broadcast', 'bround', 'bucket', 'call_udf', 'cast', 'cbrt', 'ceil', 'coalesce', 'col', 'collect_list', 'collect_set', 'column', 'concat', 'concat_ws', 'conv', 'corr', 'cos', 'cosh', 'cot', 'count', 'countDistinct', 'count_distinct', 'covar_pop', 'covar_samp', 'crc32', 'create_map', 'csc', 'cume_dist', 'current_date', 'current_timestamp', 'date_add', 'date_format', 'date_sub', 'date_trunc', 'datediff', 'dayofmonth', 'dayofweek', 'dayofyear', 'days', 'decode', 'degrees', 'dense_rank', 'desc', 'desc_nulls_first', 'desc_nulls_last', 'element_at', 'encode', 'exists', 'exp', 'explode', 'explode_outer', 'expm1', 'expr', 'factorial', 'filter', 'first', 'flatten', 'floor', 'forall', 'format_number', 'format_string', 'from_csv', 'from_json', 'from_unixtime', 'from_utc_timestamp', 'functools', 'get', 'get_active_spark_context', 'get_json_object', 'greatest', 'grouping', 'grouping_id', 'has_numpy', 'hash', 'hex', 'hour', 'hours', 'hypot', 'initcap', 'inline', 'inline_outer', 'input_file_name', 'inspect', 'instr', 'isnan', 'isnull', 'json_tuple', 'kurtosis', 'lag', 'last', 'last_day', 'lead', 'least', 'length', 'levenshtein', 'lit', 'localtimestamp', 'locate', 'log', 'log10', 'log1p', 'log2', 'lower', 'lpad', 'ltrim', 'make_date', 'map_concat', 'map_contains_key', 'map_entries', 'map_filter', 'map_from_arrays', 'map_from_entries', 'map_keys', 'map_values', 'map_zip_with', 'max', 'max_by', 'md5', 'mean', 'median', 'min', 'min_by', 'minute', 'mode', 'monotonically_increasing_id', 'month', 'months', 'months_between', 'nanvl', 'next_day', 'np', 'nth_value', 'ntile', 'octet_length', 'overlay', 'overload', 'pandas_udf', 'percent_rank', 'percentile_approx', 'pmod', 'posexplode', 'posexplode_outer', 'pow', 'product', 'quarter', 'radians', 'raise_error', 'rand', 'randn', 'rank', 'regexp_extract', 'regexp_replace', 'repeat', 'reverse', 'rint', 'round', 'row_number', 'rpad', 'rtrim', 'schema_of_csv', 'schema_of_json', 'sec', 'second', 'sentences', 'sequence', 'session_window', 'sha1', 'sha2', 'shiftLeft', 'shiftRight', 'shiftRightUnsigned', 'shiftleft', 'shiftright', 'shiftrightunsigned', 'shuffle', 'signum', 'sin', 'sinh', 'size', 'skewness', 'slice', 'sort_array', 'soundex', 'spark_partition_id', 'split', 'sqrt', 'stddev', 'stddev_pop', 'stddev_samp', 'struct', 'substring', 'substring_index', 'sum', 'sumDistinct', 'sum_distinct', 'sys', 'tan', 'tanh', 'timestamp_seconds', 'toDegrees', 'toRadians', 'to_csv', 'to_date', 'to_json', 'to_str', 'to_timestamp', 'to_utc_timestamp', 'transform', 'transform_keys', 'transform_values', 'translate', 'trim', 'trunc', 'try_remote_functions', 'udf', 'unbase64', 'unhex', 'unix_timestamp', 'unwrap_udt', 'upper', 'var_pop', 'var_samp', 'variance', 'warnings', 'weekofyear', 'when', 'window', 'window_time', 'xxhash64', 'year', 'years', 'zip_with']\n"
          ]
        }
      ]
    },
    {
      "cell_type": "code",
      "source": [
        "from pyspark.sql.functions import col, lower, upper, substring\n",
        "help(substring)\n"
      ],
      "metadata": {
        "colab": {
          "base_uri": "https://localhost:8080/"
        },
        "id": "hf36EUAAWjer",
        "outputId": "b63ef405-b664-414c-bbe8-840aa03df527"
      },
      "execution_count": 147,
      "outputs": [
        {
          "output_type": "stream",
          "name": "stdout",
          "text": [
            "Help on function substring in module pyspark.sql.functions:\n",
            "\n",
            "substring(str: 'ColumnOrName', pos: int, len: int) -> pyspark.sql.column.Column\n",
            "    Substring starts at `pos` and is of length `len` when str is String type or\n",
            "    returns the slice of byte array that starts at `pos` in byte and is of length `len`\n",
            "    when str is Binary type.\n",
            "    \n",
            "    .. versionadded:: 1.5.0\n",
            "    \n",
            "    .. versionchanged:: 3.4.0\n",
            "        Supports Spark Connect.\n",
            "    \n",
            "    Notes\n",
            "    -----\n",
            "    The position is not zero based, but 1 based index.\n",
            "    \n",
            "    Parameters\n",
            "    ----------\n",
            "    str : :class:`~pyspark.sql.Column` or str\n",
            "        target column to work on.\n",
            "    pos : int\n",
            "        starting position in str.\n",
            "    len : int\n",
            "        length of chars.\n",
            "    \n",
            "    Returns\n",
            "    -------\n",
            "    :class:`~pyspark.sql.Column`\n",
            "        substring of given value.\n",
            "    \n",
            "    Examples\n",
            "    --------\n",
            "    >>> df = spark.createDataFrame([('abcd',)], ['s',])\n",
            "    >>> df.select(substring(df.s, 1, 2).alias('s')).collect()\n",
            "    [Row(s='ab')]\n",
            "\n"
          ]
        }
      ]
    },
    {
      "cell_type": "code",
      "source": [],
      "metadata": {
        "id": "ap_N9WBPWvSc"
      },
      "execution_count": null,
      "outputs": []
    }
  ]
}